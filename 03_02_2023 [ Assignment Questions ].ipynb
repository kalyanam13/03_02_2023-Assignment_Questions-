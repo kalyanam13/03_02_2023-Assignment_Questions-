{
 "cells": [
  {
   "cell_type": "markdown",
   "id": "4c95baf5",
   "metadata": {},
   "source": [
    "# PW Skills [ASSIGNMENT QUESTIONS]"
   ]
  },
  {
   "cell_type": "markdown",
   "id": "eaaf6137",
   "metadata": {},
   "source": [
    "### Question no.1: Which keyword is used to create a function? Create a function to return a list of odd numbers in the range of 1 to 25.\n",
    "### Answer:The def keyword is used to create, (or define) a function."
   ]
  },
  {
   "cell_type": "code",
   "execution_count": 8,
   "id": "54ce1d4a",
   "metadata": {},
   "outputs": [],
   "source": [
    "def test():\n",
    "    l=[]\n",
    "    for i in range(1,25):\n",
    "        if i%2!=0:\n",
    "            l.append(i)\n",
    "    return l        "
   ]
  },
  {
   "cell_type": "code",
   "execution_count": 9,
   "id": "77cbd9a1",
   "metadata": {},
   "outputs": [
    {
     "data": {
      "text/plain": [
       "[1, 3, 5, 7, 9, 11, 13, 15, 17, 19, 21, 23]"
      ]
     },
     "execution_count": 9,
     "metadata": {},
     "output_type": "execute_result"
    }
   ],
   "source": [
    "test()"
   ]
  },
  {
   "cell_type": "markdown",
   "id": "ee77b892",
   "metadata": {},
   "source": [
    "### Question no.2: Why **args and ***kwargs is used in some functions? Create a function each for **args and **kwargs to demonstrate their use.\n",
    "### Answer: Python *args\n",
    "### As in the above example we are not sure about the number of arguments that can be passed to a function. Python has *args which allow us to pass the variable number of non keyword arguments to function.\n",
    "\n",
    "### In the function, we should use an asterisk * before the parameter name to pass variable length arguments.The arguments are passed as a tuple and these passed arguments make tuple inside the function with same name as the parameter excluding asterisk *.\n",
    "\n",
    "### Example: Using *args to pass the variable length arguments to the function."
   ]
  },
  {
   "cell_type": "code",
   "execution_count": 1,
   "id": "60a88c30",
   "metadata": {},
   "outputs": [],
   "source": [
    "def adder(*num):\n",
    "    sum=0\n",
    "    for n in num:\n",
    "        sum=sum+n\n",
    "    print(\"sum:\",sum)    "
   ]
  },
  {
   "cell_type": "code",
   "execution_count": 2,
   "id": "aad4a24f",
   "metadata": {},
   "outputs": [
    {
     "name": "stdout",
     "output_type": "stream",
     "text": [
      "sum: 13\n",
      "sum: 833\n"
     ]
    }
   ],
   "source": [
    "adder(1,5,7)\n",
    "adder(15,755,63)"
   ]
  },
  {
   "cell_type": "markdown",
   "id": "00370e4d",
   "metadata": {},
   "source": [
    "### In the above program, we used *num as a parameter which allows us to pass variable length argument list to the adder() function. Inside the function, we have a loop which adds the passed argument and prints the result. We passed 3 different tuples with variable length as an argument to the function."
   ]
  },
  {
   "cell_type": "markdown",
   "id": "90b667a9",
   "metadata": {},
   "source": [
    "### Python **kwargs\n",
    "### Python passes variable length non keyword argument to function using *args but we cannot use this to pass keyword argument. For this problem Python has got a solution called **kwargs, it allows us to pass the variable length of keyword arguments to the function.\n",
    "\n",
    "### In the function, we use the double asterisk ** before the parameter name to denote this type of argument. The arguments are passed as a dictionary and these arguments make a dictionary inside function with name same as the parameter excluding double asterisk **.\n",
    "\n",
    "### Example: Using **kwargs to pass the variable keyword arguments to the function."
   ]
  },
  {
   "cell_type": "code",
   "execution_count": 3,
   "id": "aed228f1",
   "metadata": {},
   "outputs": [],
   "source": [
    "def intro(**data):\n",
    "    print(\"\\nThe type of the data is: \",type(data))\n",
    "    for key,value in data.items():\n",
    "        print(\"{} is {}\".format(key,value))"
   ]
  },
  {
   "cell_type": "code",
   "execution_count": 5,
   "id": "637736b9",
   "metadata": {},
   "outputs": [
    {
     "name": "stdout",
     "output_type": "stream",
     "text": [
      "\n",
      "The type of the data is:  <class 'dict'>\n",
      "First_name is Swati\n",
      "Last_name is sharma\n",
      "age is 22\n",
      "sex is Female\n",
      "\n",
      "The type of the data is:  <class 'dict'>\n",
      "First_name is john\n",
      "Last_name is Mathew\n",
      "age is 32\n",
      "sex is Male\n",
      "Country is India\n",
      "Film is Do knot disturb\n",
      "identity is Six fingers in his foot\n"
     ]
    }
   ],
   "source": [
    "intro(First_name=\"Swati\",Last_name=\"sharma\",age=22,sex=\"Female\")\n",
    "intro(First_name=\"john\",Last_name=\"Mathew\",age=32,sex=\"Male\",Country=\"India\",Film=\"Do knot disturb\",identity=\"Six fingers in his foot\")"
   ]
  },
  {
   "cell_type": "markdown",
   "id": "9d790e41",
   "metadata": {},
   "source": [
    "### In the above program, we have a function intro() with **data as a parameter. We passed two dictionaries with variable argument length to the intro() function. We have for loop inside intro() function which works on the data of passed dictionary and prints the value of the dictionary.\n",
    "\n",
    "### Things to Remember:\n",
    "### *args and **kwargs are special keyword which allows function to take variable length argument.\n",
    "### *args passes variable number of non-keyworded arguments and on which operation of the tuple can be performed.\n",
    "### **kwargs passes variable number of keyword arguments dictionary to function on which operation of a dictionary can be performed.\n",
    "### *args and **kwargs make the function flexible."
   ]
  },
  {
   "cell_type": "markdown",
   "id": "5ad954a3",
   "metadata": {},
   "source": [
    "### Question no.3: What is an iteration in python? Name the method used to initialise the iterator object and the method used for iteration.Use these methods to print the first five elements of the given list[2,4,6,8,10,12,14,16,18,20].\n",
    "### Answer:Repetitive execution of the same block of code over and over is referred to as iteration.\n",
    "### There are two types of iteration:\n",
    "### Definite iteration, in which the number of repetitions is specified explicitly in advance.\n",
    "### Indefinite iteration, in which the code block executes until some condition is met.\n",
    "\n",
    "\n",
    "###  The iterator object is initialized using the iter() method. It uses the next() method for iteration.\n",
    "\n",
    "### __iter__(): The iter() method is called for the initialization of an iterator. This returns an iterator object\n",
    "### __next__(): The next method returns the next value for the iterable. When we use a for loop to traverse any iterable object, internally it uses the iter() method to get an iterator object, which further uses the next() method to iterate over. This method raises a StopIteration to signal the end of the iteration.\n",
    "### Python iter() Example:"
   ]
  },
  {
   "cell_type": "code",
   "execution_count": 9,
   "id": "c731fccd",
   "metadata": {},
   "outputs": [
    {
     "name": "stdout",
     "output_type": "stream",
     "text": [
      "2\n",
      "4\n",
      "6\n",
      "8\n",
      "10\n"
     ]
    }
   ],
   "source": [
    "list=[2,4,6,8,10,12,14,16,18,20]\n",
    "num_list=iter(list)\n",
    "print(next(num_list))\n",
    "print(next(num_list))\n",
    "print(next(num_list))\n",
    "print(next(num_list))\n",
    "print(next(num_list))"
   ]
  },
  {
   "cell_type": "markdown",
   "id": "f6de5067",
   "metadata": {},
   "source": [
    "### Question no.4: What is a generator function in python ? Why yield keyword is used? Give an example of a generator function.\n",
    "### Answer:In Python, a generator is a function that returns an iterator that produces a sequence of values when iterated over.\n",
    "\n",
    "### Generators are useful when we want to produce a large sequence of values, but we don't want to store all of them in memory at once.\n",
    "\n",
    "### yield keyword is used to create a generator function. A type of function that is memory efficient and can be used like an iterator object.\n",
    "\n",
    "### In layman terms, the yield keyword will turn any expression that is given with it into a generator object and return it to the caller. \n",
    "### Example of an generator function:"
   ]
  },
  {
   "cell_type": "code",
   "execution_count": 10,
   "id": "c720ab08",
   "metadata": {},
   "outputs": [
    {
     "name": "stdout",
     "output_type": "stream",
     "text": [
      "[1, 8, 27, 64, 125, 216, 343, 512, 729]\n",
      "<generator object <genexpr> at 0x000002E328FC1900>\n"
     ]
    }
   ],
   "source": [
    "list=[1,2,3,4,5,6,7,8,9]\n",
    "z=[x**3 for x in list]\n",
    "a=(x**3 for x in list)\n",
    "print(z)\n",
    "print(a)"
   ]
  },
  {
   "cell_type": "code",
   "execution_count": 21,
   "id": "b68ec96a",
   "metadata": {},
   "outputs": [
    {
     "name": "stdout",
     "output_type": "stream",
     "text": [
      "First String\n",
      "Second string\n",
      "Third String\n"
     ]
    }
   ],
   "source": [
    "def multiple_yield():  \n",
    "    str1 = \"First String\"  \n",
    "    yield str1  \n",
    "  \n",
    "    str2 = \"Second string\"  \n",
    "    yield str2  \n",
    "  \n",
    "    str3 = \"Third String\"  \n",
    "    yield str3  \n",
    "obj = multiple_yield()  \n",
    "print(next(obj))  \n",
    "print(next(obj))  \n",
    "print(next(obj))  "
   ]
  },
  {
   "cell_type": "markdown",
   "id": "c4597b85",
   "metadata": {},
   "source": [
    "### Question no.5:create a generator function for prime numbers less than 1000.use the next() method to print the first 20 prime numbers.\n",
    "### Answer:"
   ]
  },
  {
   "cell_type": "code",
   "execution_count": 24,
   "id": "dbac7dc8",
   "metadata": {},
   "outputs": [
    {
     "name": "stdout",
     "output_type": "stream",
     "text": [
      "2\n",
      "3\n",
      "5\n",
      "7\n",
      "11\n",
      "13\n",
      "17\n",
      "19\n",
      "23\n",
      "29\n",
      "31\n",
      "37\n",
      "41\n",
      "43\n",
      "47\n",
      "53\n",
      "59\n",
      "61\n",
      "67\n",
      "71\n"
     ]
    }
   ],
   "source": [
    "def primes_less_than_1000():\n",
    "    yield 2\n",
    "    for num in range(3,1000,2):\n",
    "        for divisor in range(3,int(num**0.5)+1,2):\n",
    "            if num%divisor==0:\n",
    "                break\n",
    "        else:\n",
    "            yield num\n",
    "prime_generator=primes_less_than_1000()\n",
    "for i in range(20):\n",
    "    print(next(prime_generator))"
   ]
  },
  {
   "cell_type": "code",
   "execution_count": null,
   "id": "77706114",
   "metadata": {},
   "outputs": [],
   "source": []
  },
  {
   "cell_type": "code",
   "execution_count": null,
   "id": "7b4ed34a",
   "metadata": {},
   "outputs": [],
   "source": []
  },
  {
   "cell_type": "code",
   "execution_count": null,
   "id": "559bfe8b",
   "metadata": {},
   "outputs": [],
   "source": []
  }
 ],
 "metadata": {
  "kernelspec": {
   "display_name": "Python 3 (ipykernel)",
   "language": "python",
   "name": "python3"
  },
  "language_info": {
   "codemirror_mode": {
    "name": "ipython",
    "version": 3
   },
   "file_extension": ".py",
   "mimetype": "text/x-python",
   "name": "python",
   "nbconvert_exporter": "python",
   "pygments_lexer": "ipython3",
   "version": "3.9.13"
  }
 },
 "nbformat": 4,
 "nbformat_minor": 5
}
